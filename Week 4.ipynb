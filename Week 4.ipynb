{
    "nbformat_minor": 1, 
    "cells": [
        {
            "source": "### Introduction\n\nBrooklyn is the most populous borough and the second-largest in land area among the New York City's boroughs. As New York City is attracting immigrants from all around the world, Brooklyn also has involved into a place with a robust and growing demographic and cultural diversity. Nowadays, Brooklyn contains dozens of distinct neighborhoods representing many of the major culturally identified groups found within New York City, including but not limited to Jewish American, Chinese American, Caribbean and African American and Latino American.\n\nIt's interesting to take a deeper look into neighbourhoods in Brooklyn and try to figure out the similarities or differences among those neighbourhoods. It'll also provide useful guides for people who would like to start a business or live in any neighbourhood in Brooklyn.", 
            "cell_type": "markdown", 
            "metadata": {
                "collapsed": true
            }
        }, 
        {
            "execution_count": null, 
            "cell_type": "code", 
            "metadata": {}, 
            "outputs": [], 
            "source": ""
        }
    ], 
    "metadata": {
        "kernelspec": {
            "display_name": "Python 3.6", 
            "name": "python3", 
            "language": "python"
        }, 
        "language_info": {
            "mimetype": "text/x-python", 
            "nbconvert_exporter": "python", 
            "version": "3.6.8", 
            "name": "python", 
            "file_extension": ".py", 
            "pygments_lexer": "ipython3", 
            "codemirror_mode": {
                "version": 3, 
                "name": "ipython"
            }
        }
    }, 
    "nbformat": 4
}